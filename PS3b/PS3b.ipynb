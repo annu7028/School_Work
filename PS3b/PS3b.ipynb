{
 "cells": [
  {
   "cell_type": "code",
   "execution_count": 5,
   "metadata": {},
   "outputs": [],
   "source": [
    "def ChargePod(k, pod):\n",
    "    #set variable = to distance traveled\n",
    "    dis = 0\n",
    "    charge = list()\n",
    "    #traverse through list\n",
    "    for i in range(len(pod)):\n",
    "        #if point in list minus dis is greater than k\n",
    "        if(pod[i] - dis > k):\n",
    "            #then previous element in list is location of charge\n",
    "            charge.append(pod[i-1])\n",
    "            #and set the distance equal to that element\n",
    "            dis = pod[i-1]\n",
    "    return charge"
   ]
  },
  {
   "cell_type": "code",
   "execution_count": 6,
   "metadata": {},
   "outputs": [
    {
     "data": {
      "text/plain": [
       "[37, 70]"
      ]
     },
     "execution_count": 6,
     "metadata": {},
     "output_type": "execute_result"
    }
   ],
   "source": [
    "Test1 = [0, 20, 37, 54, 70, 90]\n",
    "ChargePod(40, Test1)"
   ]
  },
  {
   "cell_type": "code",
   "execution_count": 7,
   "metadata": {},
   "outputs": [
    {
     "data": {
      "text/plain": [
       "[18, 37, 56]"
      ]
     },
     "execution_count": 7,
     "metadata": {},
     "output_type": "execute_result"
    }
   ],
   "source": [
    "Test2 = [0, 18, 21, 24, 37, 56, 66]\n",
    "ChargePod(20, Test2)"
   ]
  },
  {
   "cell_type": "code",
   "execution_count": 8,
   "metadata": {},
   "outputs": [
    {
     "data": {
      "text/plain": [
       "[]"
      ]
     },
     "execution_count": 8,
     "metadata": {},
     "output_type": "execute_result"
    }
   ],
   "source": [
    "Test3 = [0, 10, 15, 18]\n",
    "ChargePod(20, Test3)"
   ]
  },
  {
   "cell_type": "code",
   "execution_count": null,
   "metadata": {},
   "outputs": [],
   "source": []
  }
 ],
 "metadata": {
  "kernelspec": {
   "display_name": "Python 3",
   "language": "python",
   "name": "python3"
  },
  "language_info": {
   "codemirror_mode": {
    "name": "ipython",
    "version": 3
   },
   "file_extension": ".py",
   "mimetype": "text/x-python",
   "name": "python",
   "nbconvert_exporter": "python",
   "pygments_lexer": "ipython3",
   "version": "3.6.7"
  }
 },
 "nbformat": 4,
 "nbformat_minor": 2
}
