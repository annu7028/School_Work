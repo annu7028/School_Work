{
 "cells": [
  {
   "cell_type": "code",
   "execution_count": 1,
   "metadata": {},
   "outputs": [
    {
     "name": "stdout",
     "output_type": "stream",
     "text": [
      "2\n"
     ]
    }
   ],
   "source": [
    "def GetMin(A):\n",
    "    n = len(A)\n",
    "    mid = n//2\n",
    "    minDist = -(n//-4)\n",
    "    \n",
    "    leftIndex = mid-minDist\n",
    "    rightIndex = mid + minDist\n",
    "    \n",
    "    minLeft = findValley(A, 0, leftIndex, n) #left of middle \n",
    "    minRight = findValley(A, rightIndex, n-1, n) #right of middle\n",
    "    \n",
    "    if minLeft < minRight:\n",
    "        return minLeft\n",
    "    else:\n",
    "        return minRight\n",
    "def findValley(A, low, high, n):\n",
    "    #get the index mid of the subarray\n",
    "    mid = (low + high)//2\n",
    "    \n",
    "    while low <= high:\n",
    "        #check if it's neighbors are greater-than mid --> Base Case\n",
    "        #if neighbors greater than mid, return mid\n",
    "        if(A[mid] < A[mid+1] and A[mid] < A[mid-1]):\n",
    "            return A[mid]\n",
    "        #else, iterate left\n",
    "        elif(A[mid-1] < A[mid]):\n",
    "            return findValley(A, low, mid-1, n)\n",
    "\n",
    "        #iterate right\n",
    "        return findValley(A, mid+1, high, n)\n",
    "\n",
    "A = [9, 2, 4, 6, 7, 10, 18, 16, 8, 5, 11]\n",
    "print(GetMin(A))"
   ]
  },
  {
   "cell_type": "code",
   "execution_count": null,
   "metadata": {},
   "outputs": [],
   "source": []
  }
 ],
 "metadata": {
  "kernelspec": {
   "display_name": "Python 3",
   "language": "python",
   "name": "python3"
  },
  "language_info": {
   "codemirror_mode": {
    "name": "ipython",
    "version": 3
   },
   "file_extension": ".py",
   "mimetype": "text/x-python",
   "name": "python",
   "nbconvert_exporter": "python",
   "pygments_lexer": "ipython3",
   "version": "3.6.7"
  }
 },
 "nbformat": 4,
 "nbformat_minor": 2
}
