{
 "cells": [
  {
   "cell_type": "code",
   "execution_count": 1,
   "metadata": {},
   "outputs": [
    {
     "name": "stdout",
     "output_type": "stream",
     "text": [
      "[5, 1]\n",
      "[2, 23]\n"
     ]
    }
   ],
   "source": [
    "import numpy as np    \n",
    "#create a DP table\n",
    "#find the cell that has a cardinality of k and value of t\n",
    "\n",
    "#find the cardinality by back tracking\n",
    "\n",
    "def Table(S, t, k):\n",
    "    #base case: if target amount (t) is 0 or cardinality/size of subset (k) is 0\n",
    "    #then nothing can be added\n",
    "    \n",
    "    #make k = weight\n",
    "    #make elements of S = value\n",
    "    \n",
    "    if t == 0 or k == 0:\n",
    "        return 0\n",
    "    n = len(S)\n",
    "    #create a DP table\n",
    "    T = [[0 for x in range (t+1)] for x in range(n+1)]\n",
    "    \n",
    "    #build table takes O(nt) time\n",
    "    for sPosition in range(n+1): #iterates through S\n",
    "        for target in range (t+1): #capacity/target\n",
    "            if target == 0:\n",
    "                T[sPosition][target] = 0\n",
    "            elif S[sPosition-1] <= target: \n",
    "                T[sPosition][target] = max(S[sPosition-1] + T[sPosition-1][target-S[sPosition-1]], T[sPosition-1][target])\n",
    "            else:\n",
    "                T[sPosition][target] = T[sPosition-1][target]\n",
    "    table = T[n][t]\n",
    "    \n",
    "    #check if the last element in the table is equal to the target\n",
    "    if table == t:\n",
    "        target = t\n",
    "        subSet = []\n",
    "        \n",
    "        #BACKTRACK to find elements in subSet\n",
    "        #iterate down the Table based on the elements of S\n",
    "        #loop take O(n) time because only one loop over the DP table\n",
    "        for PositionS in range(n, 0 , -1):\n",
    "            #when there is nowhere else to go in the table\n",
    "            if table <= 0:\n",
    "                break\n",
    "            #when item is not included, continue iterating through table\n",
    "            if table == T[PositionS-1][target]:\n",
    "                continue\n",
    "            else:\n",
    "                #element is included, append subSet\n",
    "                subSet.append(S[PositionS - 1])\n",
    "                #remove value from the table in order to find the new position on the table\n",
    "                table = table - S[PositionS - 1]\n",
    "        \n",
    "        #check if the length of the subSet is equal to cardinality k\n",
    "        if len(subSet) == k:\n",
    "            return subSet\n",
    "        else:\n",
    "            return False\n",
    "    else:\n",
    "        return False\n",
    "#run-time of function is O(nt) + O(n) \n",
    "#ultimately leading to an overall O(nt) runtime since O(nt) is the leading run-time\n",
    "    \n",
    "S = [2, 1, 5, 7]\n",
    "t = 6\n",
    "k = 2\n",
    "\n",
    "print(Table(S, t, k))\n",
    "\n",
    "V = [2,5,1,3]\n",
    "t=10\n",
    "k=3\n",
    "print(Table(V,t,k))\n",
    "\n"
   ]
  },
  {
   "cell_type": "code",
   "execution_count": null,
   "metadata": {},
   "outputs": [],
   "source": []
  }
 ],
 "metadata": {
  "kernelspec": {
   "display_name": "Python 3",
   "language": "python",
   "name": "python3"
  },
  "language_info": {
   "codemirror_mode": {
    "name": "ipython",
    "version": 3
   },
   "file_extension": ".py",
   "mimetype": "text/x-python",
   "name": "python",
   "nbconvert_exporter": "python",
   "pygments_lexer": "ipython3",
   "version": "3.6.7"
  }
 },
 "nbformat": 4,
 "nbformat_minor": 2
}
